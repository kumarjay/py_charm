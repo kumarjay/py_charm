{
 "cells": [
  {
   "cell_type": "code",
   "execution_count": 1,
   "metadata": {},
   "outputs": [],
   "source": [
    "import os\n",
    "import re\n",
    "from tweepy import OAuthHandler\n",
    "from textblob import TextBlob\n",
    "import tweepy\n",
    "import numpy as np"
   ]
  },
  {
   "cell_type": "code",
   "execution_count": 2,
   "metadata": {},
   "outputs": [],
   "source": [
    "consumer_key='uWWd3uTfFKqQtBdlF1jMMBASu'\n",
    "consumer_secret='Z3huO0po2YxS44F4OI5E1AVEyYw7XzjNleZfokDQJmrU53UVZQ'\n",
    "access_tocken='105464192-b0XKKPviiseIIvBWxItGcLp7DvLsUKGcTnW2q3NK'\n",
    "access_tocken_secret='KsdMiyAPdaLXUPMD77YBVro1wBjN92lr96RLWKpSFvMpX'"
   ]
  },
  {
   "cell_type": "code",
   "execution_count": 3,
   "metadata": {},
   "outputs": [],
   "source": [
    "auth=OAuthHandler(consumer_key, consumer_secret)\n",
    "auth.set_access_token(access_tocken, access_tocken_secret)\n",
    "api=tweepy.API(auth)"
   ]
  },
  {
   "cell_type": "code",
   "execution_count": 4,
   "metadata": {},
   "outputs": [],
   "source": [
    "candidate_name=['Cope','Poisson']\n",
    "name_of_debate='PrimaireLeDebate'\n",
    "\n",
    "since_date='2019-07-01'\n",
    "till_date='2019-07-15'"
   ]
  },
  {
   "cell_type": "code",
   "execution_count": 5,
   "metadata": {},
   "outputs": [],
   "source": [
    "\n",
    "def fet_label(analysis, threshold=0):\n",
    "    \n",
    "    if analysis.sentiment[0]>threshold:\n",
    "        return 'positive'\n",
    "    else:\n",
    "        return 'negative'"
   ]
  },
  {
   "cell_type": "code",
   "execution_count": 7,
   "metadata": {},
   "outputs": [
    {
     "name": "stderr",
     "output_type": "stream",
     "text": [
      "C:\\Users\\user\\Anaconda3\\lib\\site-packages\\numpy\\core\\fromnumeric.py:3118: RuntimeWarning: Mean of empty slice.\n",
      "  out=out, **kwargs)\n",
      "C:\\Users\\user\\Anaconda3\\lib\\site-packages\\numpy\\core\\_methods.py:85: RuntimeWarning: invalid value encountered in double_scalars\n",
      "  ret = ret.dtype.type(ret / rcount)\n"
     ]
    }
   ],
   "source": [
    "all_polarity=dict()\n",
    "\n",
    "for candidate in candidate_name:\n",
    "    polarity=[]\n",
    "    \n",
    "    candidate_tweet=api.search(q=[name_of_debate, candidate],count=100, since=since_date, till=till_date)\n",
    "    \n",
    "    with open('%s_tweets.csv' % candidate,'w') as this_candidate_file:\n",
    "        \n",
    "        this_candidate_file.write('tweet, sentiment_label\\n')\n",
    "        for tweet in candidate_tweet:\n",
    "            analysis=TextBlob(tweet.text, pos_tagger=PatternTagger(), analyzer=PatternAnalyzer())\n",
    "            polarity.append(analysis.sentiment[0])\n",
    "            this_candidate_file.write('%s,%s\\n' % (tweet.text.encode('utf8'), get_label(analysis)))\n",
    "            \n",
    "    all_polarity[candidate]=np.mean(polarity)"
   ]
  },
  {
   "cell_type": "code",
   "execution_count": 15,
   "metadata": {},
   "outputs": [
    {
     "ename": "NameError",
     "evalue": "name 'version' is not defined",
     "output_type": "error",
     "traceback": [
      "\u001b[1;31m---------------------------------------------------------------------------\u001b[0m",
      "\u001b[1;31mNameError\u001b[0m                                 Traceback (most recent call last)",
      "\u001b[1;32m<ipython-input-15-605b5d1778ad>\u001b[0m in \u001b[0;36m<module>\u001b[1;34m\u001b[0m\n\u001b[1;32m----> 1\u001b[1;33m \u001b[0mversion\u001b[0m\u001b[1;33m\u001b[0m\u001b[1;33m\u001b[0m\u001b[0m\n\u001b[0m",
      "\u001b[1;31mNameError\u001b[0m: name 'version' is not defined"
     ]
    }
   ],
   "source": [
    "version"
   ]
  },
  {
   "cell_type": "code",
   "execution_count": null,
   "metadata": {},
   "outputs": [],
   "source": []
  }
 ],
 "metadata": {
  "kernelspec": {
   "display_name": "Python 3",
   "language": "python",
   "name": "python3"
  },
  "language_info": {
   "codemirror_mode": {
    "name": "ipython",
    "version": 3
   },
   "file_extension": ".py",
   "mimetype": "text/x-python",
   "name": "python",
   "nbconvert_exporter": "python",
   "pygments_lexer": "ipython3",
   "version": "3.7.3"
  }
 },
 "nbformat": 4,
 "nbformat_minor": 2
}
